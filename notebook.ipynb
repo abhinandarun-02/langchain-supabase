{
 "cells": [
  {
   "cell_type": "markdown",
   "metadata": {},
   "source": [
    "# Langchain Supabase Setup"
   ]
  },
  {
   "cell_type": "markdown",
   "metadata": {},
   "source": [
    "### 1. Loading the environment variables"
   ]
  },
  {
   "cell_type": "code",
   "execution_count": 1,
   "metadata": {},
   "outputs": [
    {
     "data": {
      "text/plain": [
       "True"
      ]
     },
     "execution_count": 1,
     "metadata": {},
     "output_type": "execute_result"
    }
   ],
   "source": [
    "from dotenv import load_dotenv\n",
    "\n",
    "load_dotenv()"
   ]
  },
  {
   "cell_type": "markdown",
   "metadata": {},
   "source": [
    "### 2. Initialize the Supabase Client"
   ]
  },
  {
   "cell_type": "code",
   "execution_count": 3,
   "metadata": {},
   "outputs": [],
   "source": [
    "import os\n",
    "from supabase.client import Client, create_client\n",
    "\n",
    "\n",
    "supabase_url = os.environ.get(\"SUPABASE_URL\")\n",
    "supabase_key = os.environ.get(\"SUPABASE_SERVICE_KEY\")\n",
    "supabase: Client = create_client(supabase_url, supabase_key)\n"
   ]
  },
  {
   "cell_type": "markdown",
   "metadata": {},
   "source": [
    "### 3. Initialize embedding model"
   ]
  },
  {
   "cell_type": "code",
   "execution_count": 5,
   "metadata": {},
   "outputs": [],
   "source": [
    "from langchain.embeddings.openai import OpenAIEmbeddings\n",
    "from langchain.vectorstores import SupabaseVectorStore\n",
    "\n",
    "embeddings = OpenAIEmbeddings()"
   ]
  },
  {
   "cell_type": "markdown",
   "metadata": {},
   "source": [
    "### 4. Load the Data"
   ]
  },
  {
   "cell_type": "code",
   "execution_count": 31,
   "metadata": {},
   "outputs": [],
   "source": [
    "from langchain.document_loaders import TextLoader\n",
    "\n",
    "loader = TextLoader(\"./data/demo.txt\")\n",
    "documents = loader.load()"
   ]
  },
  {
   "cell_type": "markdown",
   "metadata": {},
   "source": [
    "### 5. Split the data into chunks"
   ]
  },
  {
   "cell_type": "code",
   "execution_count": 37,
   "metadata": {},
   "outputs": [],
   "source": [
    "from langchain.text_splitter import RecursiveCharacterTextSplitter\n",
    "text_splitter = RecursiveCharacterTextSplitter(chunk_size=500, chunk_overlap=0, separators=[\"##\"])\n",
    "docs = text_splitter.split_documents(documents)"
   ]
  },
  {
   "cell_type": "code",
   "execution_count": 40,
   "metadata": {},
   "outputs": [
    {
     "data": {
      "text/plain": [
       "[Document(page_content='## Life Summary:\\nAshoka Maurya also known as Ashoka the Great was a very powerful Indian emperor from the Mauryan dynasty. He ruled almost all of the Indian subcontinent that is the entire region except some parts of present-day Tamil Nadu, Karnataka and Kerala during the period of 268 to 232 BCE. He is considered as one of the greatest rulers that India ever had. Though Ashoka was a very powerful emperor, one of the main reasons why he is respected and considered as great is because of the change that was brought or rather how he achieved enlightenment and changed for the better by realizing his mistakes. Ashoka was a very power-hungry ruler before he became a Buddhist. He plundered and conquered many powerful territories and while doing so caused immense amount of damage to both the place and the people living there. Several were left severely injured and many of them dead, but this all changed after he fought the battle for Kalinga. He waged a very bloody war at Kalinga which just like the other territories left a huge mess of human bodies and structural ruins, but this time Ashoka noticed what he had done and what he had become over all those years. The lives of all those innocent humans which were lost because of his greed for power made him repent all the violence he had caused. He converted to Buddhism and spent the rest of his life for philanthropic purposes and popularizing Buddhism. Ashoka left his armed conquest and started adopting a policy that he called â€œconquest by dharma\" that is, the principles of life and in order for his teachings and works to gain popularity he started publishing them through public announcements and through the several engravings on rocks and pillars placed at specific places. Several parts about Ashokaâ€™s life has been a mystery since most of what has been found about his life has been through the numerous scriptures that wrote about him with many saying the same story in a completely different way. In the end, it is believed that Ashoka died a natural death somewhere around 232 BCE.\\n', metadata={'source': './data/demo.txt'}),\n",
       " Document(page_content='## Influence in Society:\\nAshokaâ€™s rock edicts suggest that he had ordered the establishment of 84,0000 stupas or viharas (Buddhist-monuments or monasteries) all over the world where the population was 1,00,000 or more. Though 84,0000 is obviously an exaggeration, several of these monuments can still be found in various parts of India. During this time, he had also begun his philanthropic journey. His philanthropy included â€œestablishment of medical treatment facilities for humans and animals; plantation of medicinal herbs; and digging of wells and plantation of trees along the roads\". He had also begun the tradition of feeding large number of monks. It is also said that he sent out five Buddhist missions to spread Buddhism throughout the world where each mission comprised of five monks and an elder to lead them.      \\n', metadata={'source': './data/demo.txt'}),\n",
       " Document(page_content='## Teachings:\\nMost of Ashokaâ€™s teachings have been found and publicized widely through his pillars and rock edicts where his works were engraved. As said before he had adopted the principles of dharma where he encouraged the practice of honesty, benevolence, truthfulness, compassion and more. His main principles of dharma were:\\nEveryone must practice the concept of â€œahimsa\", that is embrace the idea of non-violence \\nAll the people must try to live in peace and harmony\\nEveryone should love one another and respect others religious beliefs and faiths.\\nPeople should be honest, helping and kind to all and that includes servants and slaves.\\nChildren must respect their elders and the elders must try to understand childrenâ€™s too\\n\\n', metadata={'source': './data/demo.txt'}),\n",
       " Document(page_content='## Conclusion:\\nThe first time I had heard about Ashoka the emperor was from my class 6 history textbook. I to decided to research and write on him because unlike the other important figures of Indian history, Ashokaâ€™s story is a unique one. His life shows that people can change for the better and be the best version of themselves. Ashoka though smart, used to be a very cruel ruler who never cared about how his actions affected others but after the Battle of Kalinga, He decided to do good for the humanity and helped in several ways he could by spreading good ideas and principles while also immortalizing them for the future generations to learn. One thing that does bother me though is that I also found several articles alleging that even though he was a great ruler he was a terrible person in general but letâ€™s hope that wasnâ€™t the case. \\n', metadata={'source': './data/demo.txt'}),\n",
       " Document(page_content='## Summary:\\nAshoka The Great at the highest of his reign with his kingdom spanning over almost the entire Indian sub-continent was one of the strongest emperors to ever exist. He waged gruesome wars and did several terrible acts in order to grow and keep his power but all that changed after the battle he fought at Kalinga. All the deaths that had resulted because of his war made him resent violence and changed him for the good. After that experience, Ashoka converted to Buddhism and spent the rest of his life for social welfare and popularizing Buddhism in general.\\n\\n  \\n', metadata={'source': './data/demo.txt'})]"
      ]
     },
     "execution_count": 40,
     "metadata": {},
     "output_type": "execute_result"
    }
   ],
   "source": [
    "docs"
   ]
  },
  {
   "cell_type": "markdown",
   "metadata": {},
   "source": [
    "### 6. Insert embedded data to supabase"
   ]
  },
  {
   "cell_type": "code",
   "execution_count": 42,
   "metadata": {},
   "outputs": [
    {
     "name": "stderr",
     "output_type": "stream",
     "text": [
      "2023-11-03 14:08:14,418:INFO - HTTP Request: POST http://localhost:54321/rest/v1/documents \"HTTP/1.1 201 Created\"\n"
     ]
    }
   ],
   "source": [
    "vector_store = SupabaseVectorStore.from_documents(\n",
    "    docs,\n",
    "    embeddings,\n",
    "    client=supabase,\n",
    "    table_name=\"documents\",\n",
    "    query_name=\"match_documents\",\n",
    "    chunk_size=500,\n",
    ")"
   ]
  },
  {
   "cell_type": "markdown",
   "metadata": {},
   "source": [
    "> ### Querying by Similarity"
   ]
  },
  {
   "cell_type": "code",
   "execution_count": 49,
   "metadata": {},
   "outputs": [
    {
     "name": "stderr",
     "output_type": "stream",
     "text": [
      "2023-11-03 14:13:38,795:INFO - HTTP Request: POST http://localhost:54321/rest/v1/rpc/match_documents?limit=4 \"HTTP/1.1 200 OK\"\n"
     ]
    },
    {
     "name": "stdout",
     "output_type": "stream",
     "text": [
      "## Life Summary:\n",
      "Ashoka Maurya also known as Ashoka the Great was a very powerful Indian emperor from the Mauryan dynasty. He ruled almost all of the Indian subcontinent that is the entire region except some parts of present-day Tamil Nadu, Karnataka and Kerala during the period of 268 to 232 BCE. He is considered as one of the greatest rulers that India ever had. Though Ashoka was a very powerful emperor, one of the main reasons why he is respected and considered as great is because of the change that was brought or rather how he achieved enlightenment and changed for the better by realizing his mistakes. Ashoka was a very power-hungry ruler before he became a Buddhist. He plundered and conquered many powerful territories and while doing so caused immense amount of damage to both the place and the people living there. Several were left severely injured and many of them dead, but this all changed after he fought the battle for Kalinga. He waged a very bloody war at Kalinga which just like the other territories left a huge mess of human bodies and structural ruins, but this time Ashoka noticed what he had done and what he had become over all those years. The lives of all those innocent humans which were lost because of his greed for power made him repent all the violence he had caused. He converted to Buddhism and spent the rest of his life for philanthropic purposes and popularizing Buddhism. Ashoka left his armed conquest and started adopting a policy that he called â€œconquest by dharma\" that is, the principles of life and in order for his teachings and works to gain popularity he started publishing them through public announcements and through the several engravings on rocks and pillars placed at specific places. Several parts about Ashokaâ€™s life has been a mystery since most of what has been found about his life has been through the numerous scriptures that wrote about him with many saying the same story in a completely different way. In the end, it is believed that Ashoka died a natural death somewhere around 232 BCE.\n",
      "\n"
     ]
    }
   ],
   "source": [
    "query = \"Who is Ashok Maurya?\"\n",
    "matched_docs = vector_store.similarity_search(query)\n",
    "print(matched_docs[0].page_content)"
   ]
  },
  {
   "cell_type": "markdown",
   "metadata": {},
   "source": [
    "> ### Querying by Similarity with score"
   ]
  },
  {
   "cell_type": "code",
   "execution_count": 53,
   "metadata": {},
   "outputs": [
    {
     "name": "stderr",
     "output_type": "stream",
     "text": [
      "2023-11-03 14:16:30,935:INFO - HTTP Request: POST http://localhost:54321/rest/v1/rpc/match_documents?limit=4 \"HTTP/1.1 200 OK\"\n"
     ]
    },
    {
     "name": "stdout",
     "output_type": "stream",
     "text": [
      "(Document(page_content='## Life Summary:\\nAshoka Maurya also known as Ashoka the Great was a very powerful Indian emperor from the Mauryan dynasty. He ruled almost all of the Indian subcontinent that is the entire region except some parts of present-day Tamil Nadu, Karnataka and Kerala during the period of 268 to 232 BCE. He is considered as one of the greatest rulers that India ever had. Though Ashoka was a very powerful emperor, one of the main reasons why he is respected and considered as great is because of the change that was brought or rather how he achieved enlightenment and changed for the better by realizing his mistakes. Ashoka was a very power-hungry ruler before he became a Buddhist. He plundered and conquered many powerful territories and while doing so caused immense amount of damage to both the place and the people living there. Several were left severely injured and many of them dead, but this all changed after he fought the battle for Kalinga. He waged a very bloody war at Kalinga which just like the other territories left a huge mess of human bodies and structural ruins, but this time Ashoka noticed what he had done and what he had become over all those years. The lives of all those innocent humans which were lost because of his greed for power made him repent all the violence he had caused. He converted to Buddhism and spent the rest of his life for philanthropic purposes and popularizing Buddhism. Ashoka left his armed conquest and started adopting a policy that he called â€œconquest by dharma\" that is, the principles of life and in order for his teachings and works to gain popularity he started publishing them through public announcements and through the several engravings on rocks and pillars placed at specific places. Several parts about Ashokaâ€™s life has been a mystery since most of what has been found about his life has been through the numerous scriptures that wrote about him with many saying the same story in a completely different way. In the end, it is believed that Ashoka died a natural death somewhere around 232 BCE.\\n', metadata={'source': './data/demo.txt'}), 0.880710289562975)\n"
     ]
    }
   ],
   "source": [
    "matched_docs = vector_store.similarity_search_with_relevance_scores(query)\n",
    "print(matched_docs[0])"
   ]
  },
  {
   "cell_type": "markdown",
   "metadata": {},
   "source": [
    "### Instatiate Supabase Vector Store"
   ]
  },
  {
   "cell_type": "code",
   "execution_count": null,
   "metadata": {},
   "outputs": [],
   "source": [
    "vector_store = SupabaseVectorStore(\n",
    "    embedding=embeddings,\n",
    "    client=supabase,\n",
    "    table_name=\"documents\",\n",
    "    query_name=\"match_documents\",\n",
    ")"
   ]
  }
 ],
 "metadata": {
  "kernelspec": {
   "display_name": "venv",
   "language": "python",
   "name": "python3"
  },
  "language_info": {
   "codemirror_mode": {
    "name": "ipython",
    "version": 3
   },
   "file_extension": ".py",
   "mimetype": "text/x-python",
   "name": "python",
   "nbconvert_exporter": "python",
   "pygments_lexer": "ipython3",
   "version": "3.10.11"
  }
 },
 "nbformat": 4,
 "nbformat_minor": 2
}
